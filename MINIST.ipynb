{
 "cells": [
  {
   "cell_type": "code",
   "execution_count": 125,
   "metadata": {
    "collapsed": false
   },
   "outputs": [],
   "source": [
    "import matplotlib.pyplot as plt\n",
    "from sklearn.metrics import accuracy_score\n",
    "from sklearn.neighbors import KNeighborsClassifier\n",
    "from sklearn.discriminant_analysis import StandardScaler\n",
    "import numpy as np\n",
    "import joblib"
   ]
  },
  {
   "cell_type": "code",
   "execution_count": 126,
   "metadata": {},
   "outputs": [],
   "source": [
    "train_image_path = 'dataset/train_images.idx3-ubyte'\n",
    "train_label_path = 'dataset/train_labels.idx1-ubyte'\n",
    "test_image_path  = 'dataset/test_image.idx3-ubyte'\n",
    "test_label_path  = 'dataset/test_label.idx1-ubyte'"
   ]
  },
  {
   "cell_type": "code",
   "execution_count": 127,
   "metadata": {},
   "outputs": [],
   "source": [
    "def image_process(path_file):\n",
    "    with open(path_file, 'rb') as file:\n",
    "        data = np.fromfile(file, np.uint8, offset=16)\n",
    "        data = data / 255\n",
    "        return data.reshape(-1, 28, 28)\n"
   ]
  },
  {
   "cell_type": "code",
   "execution_count": 128,
   "metadata": {},
   "outputs": [],
   "source": [
    "def label_process(path_file):\n",
    "    with open(path_file, 'rb') as file:\n",
    "        data = np.fromfile(file, np.uint8, offset=8)\n",
    "        return data\n"
   ]
  },
  {
   "cell_type": "code",
   "execution_count": 129,
   "metadata": {},
   "outputs": [],
   "source": [
    "X_train = image_process(train_image_path)\n",
    "X_test  = image_process(test_image_path)\n",
    "y_train = label_process(train_label_path)\n",
    "y_test  = label_process(test_label_path)"
   ]
  },
  {
   "cell_type": "code",
   "execution_count": 130,
   "metadata": {},
   "outputs": [
    {
     "data": {
      "text/plain": [
       "((60000, 28, 28), (60000,), (10000, 28, 28), (10000,))"
      ]
     },
     "execution_count": 130,
     "metadata": {},
     "output_type": "execute_result"
    }
   ],
   "source": [
    "X_train.shape , y_train.shape , X_test.shape , y_test.shape"
   ]
  },
  {
   "cell_type": "code",
   "execution_count": 131,
   "metadata": {},
   "outputs": [
    {
     "data": {
      "image/png": "[encoded data removed]",
      "text/plain": [
       "<Figure size 2000x1000 with 10 Axes>"
      ]
     },
     "metadata": {},
     "output_type": "display_data"
    }
   ],
   "source": [
    "fig = plt.figure(figsize=(20,10))\n",
    "for i in range(10):\n",
    "    ax = plt.subplot(1,13,i+1)\n",
    "    ax.imshow(X_train[i] , cmap='gray')\n",
    "    plt.title('Label ' + str(y_train[i]))\n",
    "    plt.xticks([])\n",
    "    plt.yticks([])\n",
    "    plt.show"
   ]
  },
  {
   "attachments": {},
   "cell_type": "markdown",
   "metadata": {},
   "source": [
    "# Modele 1 : K-nearest neighbors"
   ]
  },
  {
   "cell_type": "code",
   "execution_count": 134,
   "metadata": {},
   "outputs": [],
   "source": [
    "class KNNClassifier:\n",
    "    def euclideanDistance(self, x1, x2):\n",
    "        return np.sqrt(np.sum(np.square(x1 - x2))) \n",
    "    \n",
    "    def manhattanDistance(self, x1, x2):\n",
    "        return np.sum(np.abs(x1 - x2))\n",
    "    \n",
    "    def fit(self, X_train, y_train):\n",
    "        self.X_train = X_train\n",
    "        self.y_train = y_train\n",
    "    \n",
    "    def predect(self, k, X_test, distance='euclidean', weights='uniform'):\n",
    "        y_pred = []\n",
    "        \n",
    "        for x in X_test:\n",
    "            if distance == 'manhattan':\n",
    "                distances = [self.manhattanDistance(x, x_train) for x_train in self.X_train]\n",
    "            else:\n",
    "                distances = [self.euclideanDistance(x, x_train) for x_train in self.X_train]\n",
    "                     \n",
    "            k_indices = np.argsort(distances)[:k]\n",
    "            k_labels = self.y_train[k_indices]\n",
    "            \n",
    "            if weights == 'distance':\n",
    "                y = k_labels[np.argmax(np.bincount(k_labels) * (1 / distances[k_indices]))]\n",
    "                y_pred.append(y)\n",
    "            else:\n",
    "                y = np.argmax(np.bincount(k_labels))\n",
    "                y_pred.append(y)\n",
    "        \n",
    "        return np.array(y_pred)    "
   ]
  },
  {
   "cell_type": "code",
   "execution_count": 135,
   "metadata": {},
   "outputs": [],
   "source": [
    "# PARAMETRES \n",
    "k = 4\n",
    "distance_type = 'manhattan'\n",
    "weight_type = 'uniform'\n",
    "\n",
    "# prend en petit partie du data\n",
    "\n",
    "xpetit_train = X_train[ : 500]\n",
    "ypetit_train = y_train[ : 500]\n",
    "\n",
    "xpetit_test = X_test[ : 10]\n",
    "ypetit_test = y_test[ : 10]\n",
    "\n",
    "xpetit_train = np.reshape(xpetit_train, (xpetit_train.shape[0], -1))\n",
    "train = np.reshape(ypetit_train, (ypetit_train.shape[0], -1))\n",
    "xpetit_test = np.reshape(xpetit_test, (xpetit_test.shape[0], -1))\n",
    "ypetit_test = np.reshape(ypetit_test, (ypetit_test.shape[0], -1))\n",
    "\n"
   ]
  },
  {
   "cell_type": "code",
   "execution_count": 136,
   "metadata": {},
   "outputs": [
    {
     "name": "stdout",
     "output_type": "stream",
     "text": [
      "Accuracy : 80.00%\n"
     ]
    }
   ],
   "source": [
    "model = KNNClassifier()\n",
    "\n",
    "model.fit(xpetit_train , ypetit_train)\n",
    "\n",
    "ypred = model.predect( k , xpetit_test, distance=distance_type, weights=weight_type)\n",
    "\n",
    "accuracy = accuracy_score(ypetit_test, ypred)\n",
    "print(\"Accuracy : {:.2f}%\".format(accuracy * 100))"
   ]
  },
  {
   "cell_type": "code",
   "execution_count": 137,
   "metadata": {},
   "outputs": [
    {
     "name": "stdout",
     "output_type": "stream",
     "text": [
      "Accuracy : 80.00%\n"
     ]
    }
   ],
   "source": [
    "model = KNeighborsClassifier(n_neighbors=k)\n",
    "\n",
    "model.fit(xpetit_train, ypetit_train)\n",
    "\n",
    "y_pred = model.predict(xpetit_test)\n",
    "\n",
    "accuracy = accuracy_score(ypetit_test, y_pred)\n",
    "print(\"Accuracy : {:.2f}%\".format(accuracy * 100))"
   ]
  },
  {
   "attachments": {},
   "cell_type": "markdown",
   "metadata": {},
   "source": [
    "# Model 2 : Logistique regression"
   ]
  },
  {
   "cell_type": "code",
   "execution_count": 138,
   "metadata": {},
   "outputs": [],
   "source": [
    "class LogistiqueClssifieur:\n",
    "    \n",
    "    def __init__(self, alpha, iterations, normalize = True):\n",
    "        self.alpha = alpha\n",
    "        self.iterations = iterations    \n",
    "        self.normalize = normalize    \n",
    "    \n",
    "    def sigmoid(self, z):\n",
    "        return 1 / (1 + np.exp(-z))\n",
    "    \n",
    "    def fit(self, X_train, y_train):\n",
    "        # recuperer nombre du classe \n",
    "        self.classes = np.unique(y_train)\n",
    "        self.nombre_classes = len(self.classes)\n",
    "        \n",
    "        # pour ajouter 1 \n",
    "        intercept = np.ones((X_train.shape[0], 1))\n",
    "        self.X_train = X_train.reshape(X_train.shape[0] , -1)\n",
    "        \n",
    "        # faire normalisation\n",
    "        if self.normalize :\n",
    "            scaler = StandardScaler()\n",
    "            scaler.fit( self.X_train)\n",
    "            self.X_train = np.column_stack((intercept, scaler.transform(self.X_train)))\n",
    "        else : self.X_train = np.column_stack((intercept, X_train))\n",
    "        \n",
    "        self.y_train = y_train.reshape(y_train.shape[0] , 1)  \n",
    "        #initilaiser les thetas      \n",
    "        self.theta = np.zeros((self.nombre_classes , self.X_train.shape[1]))\n",
    "        # mise a jour les theta \n",
    "        self.predictMultiClasses()\n",
    "            \n",
    "    def derivative(self, theta , y):       \n",
    "        m = len(self.X_train)\n",
    "        h_theta = self.sigmoid(self.X_train @ theta.T)\n",
    "        return (self.X_train.T @ (h_theta - y)).T / m    \n",
    "    \n",
    "    def computeCostLogistique(self, theta , y):\n",
    "        m = len(self.X_train)\n",
    "        h_theta = self.sigmoid(self.X_train @ theta.T )        \n",
    "        h_theta[h_theta == 0.] += np.finfo(float).eps\n",
    "        h_theta[h_theta == 1.] -= np.finfo(float).eps  \n",
    "        return - np.sum( y.T @ np.log(h_theta) + (1 - y).T @ np.log(1 - h_theta))  / m\n",
    "\n",
    "    def gradientDescent(self , y):\n",
    "        theta_optimum = np.zeros((1 , self.X_train.shape[1]))\n",
    "        theta = np.zeros((1 , self.X_train.shape[1]))\n",
    "        cost_optimum = self.computeCostLogistique(theta,y)\n",
    "        for i in range(self.iterations):\n",
    "            delta_theta = self.derivative(theta , y)            \n",
    "            theta = theta - self.alpha * delta_theta         \n",
    "            cost = self.computeCostLogistique(theta, y)\n",
    "            if cost_optimum > cost:\n",
    "                theta_optimum = np.array(theta)\n",
    "                cost_optimum = cost\n",
    "        return theta_optimum\n",
    "    \n",
    "    def predictMultiClasses(self ):                \n",
    "        for i in range(self.nombre_classes):            \n",
    "            theta = self.gradientDescent( ( self.y_train == self.classes[i] ).astype(int))\n",
    "            self.theta[i, :] = theta       \n",
    "    \n",
    "    def predict(self, X_test):\n",
    "        intercept = np.ones((X_test.shape[0], 1))\n",
    "        X_test = X_test.reshape(X_test.shape[0] , -1)\n",
    "        if self.normalize :\n",
    "            scaler = StandardScaler()\n",
    "            scaler.fit(X_test)\n",
    "            X_test = np.column_stack((intercept, scaler.transform(X_test)))\n",
    "        else :  X_test = np.column_stack((intercept, X_test) ) \n",
    "        proba = X_test @ self.theta.T\n",
    "        max_proba_classe = np.argmax(proba , axis=1)\n",
    "        predect = self.classes[ max_proba_classe]\n",
    "        return predect.reshape((-1, 1))"
   ]
  },
  {
   "attachments": {},
   "cell_type": "markdown",
   "metadata": {},
   "source": [
    "## Train and Save the model"
   ]
  },
  {
   "cell_type": "code",
   "execution_count": 139,
   "metadata": {},
   "outputs": [],
   "source": [
    "#model = LogistiqueClssifieur(0.01 , 1000 , False)\n",
    "#model.fit(xpetit_train, ypetit_train)\n",
    "# save modele \n",
    "filename = 'LogistiqueClassifieurModel.sav'\n",
    "#joblib.dump(model, filename)"
   ]
  },
  {
   "cell_type": "code",
   "execution_count": 140,
   "metadata": {},
   "outputs": [],
   "source": [
    "# open model\n",
    "model = joblib.load(filename)"
   ]
  },
  {
   "cell_type": "code",
   "execution_count": 141,
   "metadata": {},
   "outputs": [
    {
     "name": "stdout",
     "output_type": "stream",
     "text": [
      "Accuracy : 90.00%\n"
     ]
    }
   ],
   "source": [
    "ypred = model.predict(xpetit_test)\n",
    "ypetit_test = ypetit_test.reshape(xpetit_test.shape[0] , 1)\n",
    "accuracy = accuracy_score(ypetit_test, ypred)\n",
    "print(\"Accuracy : {:.2f}%\".format(accuracy * 100))"
   ]
  },
  {
   "attachments": {},
   "cell_type": "markdown",
   "metadata": {},
   "source": [
    "# Model 3 : RNN"
   ]
  },
  {
   "cell_type": "code",
   "execution_count": 142,
   "metadata": {},
   "outputs": [],
   "source": [
    "def sigmoid(z):\n",
    "        return 1 / (1 + np.exp(-z))    "
   ]
  },
  {
   "cell_type": "code",
   "execution_count": 143,
   "metadata": {},
   "outputs": [],
   "source": [
    "w1 = np.random.uniform( -0.1 , 0.1 , size = ( 15 , 784))\n",
    "b1 = np.random.uniform( -0.1, 0.1 , size=(15 , 1))\n",
    "w2 = np.random.uniform( -0.1 , 0.1 , size = ( 10 , 15))\n",
    "b2 = np.random.uniform( -0.1, 0.1 , size=(10 , 1))"
   ]
  },
  {
   "cell_type": "code",
   "execution_count": 144,
   "metadata": {},
   "outputs": [],
   "source": [
    "def forward(X):\n",
    "    a1 = sigmoid(w1 @ X.T)\n",
    "    a2 = sigmoid(w2 @ a1 )\n",
    "    return a1 , a2 \n",
    "\n",
    "def backward(X , a1 , a2):\n",
    "   \n",
    "   dz2 = a2 - YY.T # (10 * 500)\n",
    "   dw2 = dz2 @ a1.T    # 10 * 500 @ 500 * 15   =  10 * 15           \n",
    "   db2 = dz2       # 10 * 500\n",
    "   \n",
    "   dz1 = w2.T @ dz2 * a1 * ( 1 - a1 )   \n",
    "   dw1 = dz1 @ X\n",
    "   db1 = dz1 \n",
    "                \n",
    "   db2 = np.mean(db2 , axis = 1).reshape((-1 , 1))\n",
    "   db1 = np.mean(db1 , axis = 1).reshape((-1 , 1))    \n",
    "   return dw1 , db1 , dw2 , db2   \n",
    "\n",
    "def lossFunction(X , YY):\n",
    "    _, ypred = forward(X)\n",
    "    ypred = ypred.T\n",
    "    return - np.mean( YY * np.log(ypred))\n",
    "    \n",
    "YY = np.zeros(( ypetit_train.shape[0] , 10 )   )  \n",
    "\n",
    "for i in range(10):\n",
    "    YY[ : , i ] = ( ypetit_train == i ).astype(int)\n",
    "    \n",
    "num_epochs = 10000\n",
    "learning_rate = 0.001\n",
    "\n",
    "def gradinetDescent(X , w1 , b1 , w2 , b2 ):\n",
    "    \n",
    "    optimale = ( w1 , b1 , w2 , b2)\n",
    "    lossOptim = lossFunction(X , YY)\n",
    "        \n",
    "    for epoch in range(num_epochs):\n",
    "        \n",
    "        a1 , a2 = forward(X)\n",
    "        dw1 , db1 , dw2 , db2  = backward(X , a1 , a2 )\n",
    "        \n",
    "        w1 -= learning_rate * dw1\n",
    "        b1 -= learning_rate * db1\n",
    "        w2 -= learning_rate * dw2\n",
    "        b2 = learning_rate * db2\n",
    "        \n",
    "        \n",
    "        loss = lossFunction(X , YY)\n",
    "        \n",
    "        if loss < lossOptim :\n",
    "            optimale = ( w1 , b1 , w2 , b2) \n",
    "            lossOptim = loss\n",
    "            \n",
    "    return optimale \n",
    "    "
   ]
  },
  {
   "cell_type": "code",
   "execution_count": 145,
   "metadata": {},
   "outputs": [],
   "source": [
    "w1 , b1 , w2 , b2 = gradinetDescent(xpetit_train , w1 , b1 , w2 , b2 )"
   ]
  },
  {
   "cell_type": "code",
   "execution_count": 146,
   "metadata": {},
   "outputs": [],
   "source": [
    "def predict(X, w1, b1, w2, b2):\n",
    "    _, y_pred = forward(X)\n",
    "    return np.argmax(y_pred, axis=0)\n",
    "\n",
    "y_pred = predict(xpetit_test, w1 , b1 , w2 , b2)\n"
   ]
  },
  {
   "cell_type": "code",
   "execution_count": 147,
   "metadata": {},
   "outputs": [
    {
     "name": "stdout",
     "output_type": "stream",
     "text": [
      "Accuracy : 90.00%\n"
     ]
    }
   ],
   "source": [
    "accuracy = accuracy_score(y_pred, ypetit_test)\n",
    "print(\"Accuracy : {:.2f}%\".format(accuracy * 100))"
   ]
  }
 ],
 "metadata": {
  "kernelspec": {
   "display_name": "Python 3",
   "language": "python",
   "name": "python3"
  },
  "language_info": {
   "codemirror_mode": {
    "name": "ipython",
    "version": 3
   },
   "file_extension": ".py",
   "mimetype": "text/x-python",
   "name": "python",
   "nbconvert_exporter": "python",
   "pygments_lexer": "ipython3",
   "version": "3.10.4"
  }
 },
 "nbformat": 4,
 "nbformat_minor": 0
}
